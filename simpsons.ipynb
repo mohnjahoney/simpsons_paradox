{
 "cells": [
  {
   "cell_type": "markdown",
   "metadata": {},
   "source": [
    "<img src=\"img/Brilliant_logo.png\" width=\"20%\">\n",
    "\n",
    "### John Mahoney's Teaching Demo\n",
    "\n",
    "Sept 8, 2020\n",
    "\n",
    "mohnjahoney@gmail.com\n",
    "\n",
    "mohnjahoney@github.io"
   ]
  },
  {
   "cell_type": "markdown",
   "metadata": {},
   "source": [
    "TODOs:\n",
    "- Get this working on Binder.\n",
    "- Use font / bootstrap? to highlight main lessons and quiz questions / answers.\n",
    "- Improve flow in the correlation section.\n",
    "- Make a nice format for when we pose an important question.\n",
    "- Make a nice format for when we present an important result / summary point.\n",
    "- Nicer Quiz and Q/A formatting. Bootstrap options?\n",
    "- Hide quiz answer until hover? (i think this exists)\n",
    "- Turn notebook into slides - start with a simple example.\n",
    "- Interactive table. You put in numbers to try to make a Simpson - and maybe while meeting certain constraints. This removes the mental math (but still not geometric). Then maybe add the geometric part. ? Link graph to table?\n",
    "- \n",
    "- "
   ]
  },
  {
   "cell_type": "markdown",
   "metadata": {},
   "source": [
    "# Lessons\n",
    "\n",
    "- Simpson's paradox has something to do with aggregation and things switching.\n",
    "\n",
    "- Be careful when you add: are you adding **numbers** (stuff) or **ratios** (not stuff)?\n",
    "\n",
    "Example: Baseball batting averages can switch when we aggregate. However, **runs** will not switch.\n",
    "\n",
    "- There are limits:\n",
    "        you can't combine (batting aves) {0.1, 0.2, 0.3} and overcome {0.6, 0.7, 0.8} by aggregating - there has to be some overlap.\n",
    "        \n",
    "- What if drug A is better than B for women and men, but B is better for people as a group? \n",
    "\n",
    "- People seem to be comfortable with the idea that if 2019 BA was x and 2020 was y, then the aggregate should be between x and y. (and this is true)\n",
    "- People seem (fairly) comfortable with weighted averages. If there were many more at bats in 2019, then the aggregate should be closer to x than to y.\n",
    "- If we have two batter and the at bat distribution is the same for 2019 and 2020, then there can be no SP.\n",
    "- If the two batters have overlapping BAs, and different yearly at bats, and the \"lower\" one gets pulled up and the \"higher\" one gets pulled down, the result can be a flip.\n",
    "\n",
    "- OK, but what should you *do*?\n",
    "\n",
    "Take the example of males and females under the old and new education plans.\n",
    "The new plan increases scores of both groups, but the overall average score is lower.\n",
    "So what should you do next year? use the new plan or not?"
   ]
  },
  {
   "cell_type": "code",
   "execution_count": 1,
   "metadata": {
    "code_folding": []
   },
   "outputs": [],
   "source": [
    "# Imports\n",
    "from ipywidgets import interact, interactive, fixed, interact_manual\n",
    "import ipywidgets as widgets\n",
    "#import matplotlib.pyplot as plt\n",
    "import bqplot as bq\n",
    "import bqplot.pyplot as plt\n",
    "import numpy as np\n",
    "import pandas as pd\n",
    "import copy\n",
    "import os\n",
    "from sklearn.linear_model import LinearRegression"
   ]
  },
  {
   "cell_type": "markdown",
   "metadata": {},
   "source": [
    "# Simpson's Paradox\n",
    "\n",
    "Many ideas in introductory probability and statistics have a fairly intuitive feel to them, even if they might be somewhat difficult to compute precisely.\n",
    "For example, the **mean** (or the average) of a set of numbers is just *the middle*.\n",
    "And we can see that the mean of ${2,4,7,9}$ is probably near 5 or 6 and the mean of ${23, 55, 92}$ is more like 50.\n",
    "\n",
    "For other ideas, we require more work to build intuition.\n",
    "\n",
    "In this lesson, we'll be exploring an idea known as **Simpson's Paradox**.\n",
    "\n",
    "We say there is a paradox because some of these situations might contradict your current intuition.\n",
    "\n",
    "Our goals in this lesson are to:\n",
    "- notice how our intuition may be wrong about some simple seeming things,\n",
    "- gain some intuition about the paradox so that it feels... less paradoxical,\n",
    "- become aware of the different flavors of this paradox,\n",
    "- understand how to act when faced with this paradox in real life."
   ]
  },
  {
   "cell_type": "markdown",
   "metadata": {},
   "source": [
    "## The Gist\n",
    "\n",
    "**Combining subsets of data can result in counter-intuitive reversals.**\n",
    "\n",
    "There are different flavors of Simpson's paradox.\n",
    "The connecting theme is that while each subset may have a quality or feature, the data as a whole may have the opposite quality or feature.\n",
    "\n",
    "One one hand, Simpson's paradox can seem rather, well.., paradoxical.\n",
    "On the other, its essence is not difficult.\n",
    "The difficulty arises largely through the fact that humans are not generally very good at mental math, and the different flavors of Simpson's paradox can add a layer of confusion.\n",
    "\n",
    "Let's explore three examples to get a better feel for this paradox and its implications."
   ]
  },
  {
   "cell_type": "markdown",
   "metadata": {},
   "source": [
    "\n",
    "# Example 1: The shape of fish.\n",
    "\n",
    "Here we see two groups of fish, some red and some blue.\n",
    "There are all different sizes.\n",
    "We can see the the red fish are generally \"tall\" while the blue fish are generally \"long\"."
   ]
  },
  {
   "cell_type": "code",
   "execution_count": 2,
   "metadata": {
    "code_folding": [
     0
    ]
   },
   "outputs": [],
   "source": [
    "# Create fish data\n",
    "fish = pd.DataFrame({'color':['red', 'red', 'red', 'blue', 'blue', 'blue'], \n",
    "                     'length':[0.5, 1.0, 1.5, 2.0, 3.0, 4.0], \n",
    "                     'height':[2.5, 3.5, 4.5, 1.0, 1.5, 2.0]})\n",
    "# fish = pd.DataFrame({'color':['red', 'red', 'red', 'blue', 'blue', 'blue'], \n",
    "#                      'length':[0.5, 1.0, 1.5, 1.0, 2.5, 4.0], \n",
    "#                      'height':[2.5, 3.5, 4.5, 1.0, 1.5, 2.0]})\n",
    "\n",
    "# We don't want the image xspan to be as big as the length coordinate - otherwise the fish will overlap too much.\n",
    "x_scale = 0.5\n",
    "y_scale = 0.5\n",
    "\n",
    "fish['xspan'] = x_scale * fish['length']\n",
    "fish['yspan'] = y_scale * fish['height']\n",
    "\n",
    "# We want the fish to start out somewhere \"random\".\n",
    "fish['init_x'] = [4.2, 1.5, 3.9, 0.5, 3.1, 1.3]\n",
    "fish['init_y'] = [0.6, 3.8, 4.4, 4.5, 2.3, 1]\n",
    "\n",
    "# fish"
   ]
  },
  {
   "cell_type": "code",
   "execution_count": 3,
   "metadata": {
    "code_folding": [
     0
    ]
   },
   "outputs": [],
   "source": [
    "# TODO: Do I have to define the scales before defining the images??\n",
    "x_sc = bq.LinearScale(min=0, max=5)\n",
    "y_sc = bq.LinearScale(min=0, max=6)\n",
    "\n",
    "def get_image(color):\n",
    "    if color == 'red':\n",
    "        image = bq.Image(image=ipyimageA, scales={'x':x_sc, 'y':y_sc})\n",
    "    elif color == 'blue':\n",
    "        image = bq.Image(image=ipyimageB, scales={'x':x_sc, 'y':y_sc})\n",
    "    else:\n",
    "        raise\n",
    "    return image\n",
    "\n",
    "\n",
    "def scale_and_place_image(row, init=False):\n",
    "\n",
    "    if init:\n",
    "        x = row['init_x']\n",
    "        y = row['init_y']\n",
    "    else:\n",
    "        x = row['length']\n",
    "        y = row['height']\n",
    "\n",
    "    # NOTE: The extent of the image does not depend on whether it is in \"initial\" or \"normal\" position.\n",
    "    dx = row['xspan']\n",
    "    dy = row['yspan']\n",
    "    \n",
    "    image = row['image']\n",
    "    image.x = [x - dx/2, x + dx/2]\n",
    "    image.y = [y - dy/2, y + dy/2]\n",
    "\n",
    "    return image"
   ]
  },
  {
   "cell_type": "code",
   "execution_count": 4,
   "metadata": {
    "code_folding": [
     0
    ]
   },
   "outputs": [],
   "source": [
    "# Put images in the dataframe\n",
    "\n",
    "# Fish images\n",
    "image_pathA = os.path.abspath('./img/fish_red.png')\n",
    "image_pathB = os.path.abspath('./img/fish_blue.png')\n",
    "\n",
    "with open(image_pathA, 'rb') as fA:\n",
    "    raw_imageA = fA.read()\n",
    "with open(image_pathB, 'rb') as fB:\n",
    "    raw_imageB = fB.read()\n",
    "    \n",
    "ipyimageA = widgets.Image(value=raw_imageA, format='png')\n",
    "ipyimageB = widgets.Image(value=raw_imageB, format='png')\n",
    "    \n",
    "fish['image'] = fish['color'].apply(get_image)\n",
    "fish['image'] = fish.apply(lambda row: scale_and_place_image(row, init=True), axis=1)\n",
    "    \n",
    "#print(fish)"
   ]
  },
  {
   "cell_type": "code",
   "execution_count": 5,
   "metadata": {
    "code_folding": []
   },
   "outputs": [
    {
     "data": {
      "application/vnd.jupyter.widget-view+json": {
       "model_id": "117039f58c87439fb78449ac493ffac6",
       "version_major": 2,
       "version_minor": 0
      },
      "text/plain": [
       "GridspecLayout(children=(Figure(animation_duration=1000, fig_margin={'top': 60, 'bottom': 60, 'left': 60, 'rig…"
      ]
     },
     "metadata": {},
     "output_type": "display_data"
    }
   ],
   "source": [
    "# Make initial \"ocean\" plot.\n",
    "    \n",
    "ocean_xs = np.linspace(0, 5, 400)\n",
    "ocean_ys = -0.4 * np.abs(np.sin(4*ocean_xs)) + 6.0\n",
    "\n",
    "x_ax = bq.Axis(label='length', scale=x_sc)\n",
    "y_ax = bq.Axis(label='height', scale=y_sc, orientation='vertical')\n",
    "\n",
    "ocean_line = plt.plot(ocean_xs, ocean_ys, scales={'x':x_sc, 'y':y_sc})\n",
    "\n",
    "marks = list(fish['image']) + [ocean_line]\n",
    "\n",
    "fig = bq.Figure(marks=marks, axes=[], animation_duration=1000, \n",
    "                layout=widgets.Layout(width='auto'))\n",
    "# fig = bq.Figure(marks=marks, axes=[x_ax, y_ax], animation_duration=1000, \n",
    "#                 layout=widgets.Layout(width='50%'))\n",
    "\n",
    "box = widgets.GridspecLayout(1, 1, layout=widgets.Layout(border='blue solid 1px', width='50%'))\n",
    "box[0, 0] = fig\n",
    "\n",
    "box"
   ]
  },
  {
   "cell_type": "markdown",
   "metadata": {},
   "source": [
    "## Visualize the data.\n",
    "Let's organize these fish according to their length and height."
   ]
  },
  {
   "cell_type": "code",
   "execution_count": 6,
   "metadata": {
    "code_folding": []
   },
   "outputs": [
    {
     "data": {
      "application/vnd.jupyter.widget-view+json": {
       "model_id": "21767743698f4ff5a13321ba61df5bcc",
       "version_major": 2,
       "version_minor": 0
      },
      "text/plain": [
       "GridspecLayout(children=(Figure(animation_duration=1000, axes=[Axis(label='length', scale=LinearScale(max=5.0,…"
      ]
     },
     "metadata": {},
     "output_type": "display_data"
    }
   ],
   "source": [
    "# Move fish into (length, height) position on respective figures.\n",
    "\n",
    "# TODO: Use separate scales for the two different plots to make the aggregate relation less obvious?\n",
    "# TODO: Axis labels\n",
    "# TODO: Fix layout: wider, less margin\n",
    "# TODO: Dot size\n",
    "\n",
    "# Move the fish into their \"correct\" places.\n",
    "fish['image'] = fish.apply(lambda row: scale_and_place_image(row, init=False), axis=1)\n",
    "\n",
    "# Mark with center dots for clarity.\n",
    "scatterA = bq.Scatter(x=fish[fish['color']=='red']['length'], y=fish[fish['color']=='red']['height'], \n",
    "                      colors=['Red'], scales={'x': x_sc, 'y': y_sc})\n",
    "scatterB = bq.Scatter(x=fish[fish['color']=='blue']['length'], y=fish[fish['color']=='blue']['height'], \n",
    "                      colors=['Blue'], scales={'x': x_sc, 'y': y_sc})\n",
    "\n",
    "# Put things into figures.\n",
    "marksA = list(fish[fish['color']=='red']['image']) + [scatterA]\n",
    "marksB = list(fish[fish['color']=='blue']['image']) + [scatterB]\n",
    "\n",
    "# figA = bq.Figure(marks=marksA, axes=[x_ax, y_ax], animation_duration=1000, \n",
    "#                     min_aspect_ratio=1, max_aspect_ratio=1, layout=widgets.Layout(border='red solid 2px', length='auto'))\n",
    "# figB = bq.Figure(marks=marksB, axes=[x_ax, y_ax], animation_duration=1000, \n",
    "#                      min_aspect_ratio=1, max_aspect_ratio=1, layout=widgets.Layout(border='red solid 2px'))\n",
    "\n",
    "figA = bq.Figure(title='Red Fish', marks=marksA, axes=[x_ax, y_ax], animation_duration=1000, \n",
    "                 layout=widgets.Layout(border='red solid 1px', width='auto'))\n",
    "figB = bq.Figure(title='Blue Fish', marks=marksB, axes=[x_ax, y_ax], animation_duration=1000, \n",
    "                 layout=widgets.Layout(border='red solid 1px', width='auto'))\n",
    "\n",
    "box = widgets.GridspecLayout(1, 2, layout=widgets.Layout(border='blue solid 1px', width='100%'))\n",
    "box[0, 0] = figA\n",
    "box[0, 1] = figB\n",
    "\n",
    "box"
   ]
  },
  {
   "cell_type": "markdown",
   "metadata": {},
   "source": [
    "## Quiz! Read and interpret the graph.\n",
    "\n",
    "Try answering a few questions based on the graphs above.\n",
    "\n",
    "- Imagine you find a blue fish that is 4 foot long. How tall should you expect it to be?\n",
    "(answer: 2 feet)\n",
    "\n",
    "- Imagine you find a red fish that is 2 feet long. How tall should you expect it to be?\n",
    "(answer: 5.5 feet)"
   ]
  },
  {
   "cell_type": "markdown",
   "metadata": {},
   "source": [
    "## Observe correlations.\n",
    "\n",
    "You have probably observed some trends or predictability in this data.\n",
    "\n",
    "For example, focus on the red fish: We see that as the fish get longer, they also get taller.\n",
    "In other words, the length and height are **positively correlated**.\n",
    "\n",
    "Now focus on the blue fish: We see a similar trend - as the fish get longer, they get taller too.\n",
    "The length and height of these blue fish are **also positively correlated**.\n",
    "\n",
    "We can visualize these correlations by drawing a line through each group.\n",
    "The slope of each line tells us how much the height will change for a given change in length.\n",
    "## $\\textrm{slope} = \\frac{\\Delta y}{\\Delta x} = \\frac{\\textrm{difference in fish height}}{\\text{difference in fish length}}$"
   ]
  },
  {
   "cell_type": "code",
   "execution_count": 7,
   "metadata": {
    "code_folding": [
     0
    ]
   },
   "outputs": [],
   "source": [
    "# Add individual regression lines.\n",
    "\n",
    "# Note: Using regression here for consistency with the aggregate and also to be more flexible.\n",
    "\n",
    "\n",
    "regA = LinearRegression().fit(fish[['length']][fish['color']=='red'],\n",
    "                              fish[['height']][fish['color']=='red'])\n",
    "regB = LinearRegression().fit(fish[['length']][fish['color']=='blue'],\n",
    "                              fish[['height']][fish['color']=='blue'])\n",
    "\n",
    "reg_xs = np.linspace(0, 5, 2).reshape(-1, 1)\n",
    "\n",
    "reg_ysA = regA.predict(reg_xs)\n",
    "reg_ysB = regB.predict(reg_xs)\n",
    "\n",
    "line_regA = bq.Lines(x=reg_xs, y=reg_ysA, colors=['Pink'], scales={'x': x_sc, 'y': y_sc})\n",
    "line_regB = bq.Lines(x=reg_xs, y=reg_ysB, colors=['lightblue'], scales={'x': x_sc, 'y': y_sc})\n",
    "\n",
    "figA.set_trait('marks', figA.marks + [line_regA])\n",
    "figB.set_trait('marks', figB.marks + [line_regB])"
   ]
  },
  {
   "cell_type": "markdown",
   "metadata": {},
   "source": [
    "## Quiz! Understand correlation.\n",
    "\n",
    "- Red fish: When the length increases by one foot, the height (increases / decreases) by ___ feet.\n",
    "(answer: increases, 2)\n",
    "\n",
    "- Blue fish: When the length increases by one foot, the height (increases / decreases) by ___ feet.\n",
    "(answer: increases, 1/3)"
   ]
  },
  {
   "cell_type": "markdown",
   "metadata": {},
   "source": [
    "## Things get confusing.\n",
    "\n",
    "We've seen that, within the group of red fish, longer fish are taller.\n",
    "The same is true for blue fish.\n",
    "\n",
    "What happens when we consider **all** fish together?\n",
    "It seems only natural that the same trend should hold for the collection of red and blue fish.\n",
    "\n",
    "Let's see what happens!"
   ]
  },
  {
   "cell_type": "code",
   "execution_count": 8,
   "metadata": {
    "code_folding": []
   },
   "outputs": [
    {
     "data": {
      "application/vnd.jupyter.widget-view+json": {
       "model_id": "7901cf8b0e2b4980a19f7e3b71e82e59",
       "version_major": 2,
       "version_minor": 0
      },
      "text/plain": [
       "GridspecLayout(children=(Figure(animation_duration=1000, axes=[Axis(label='length', scale=LinearScale(max=5.0,…"
      ]
     },
     "metadata": {},
     "output_type": "display_data"
    }
   ],
   "source": [
    "# Aggregate the two groups of fish. Draw an aggregate regression line.\n",
    "\n",
    "# TODO: If we split the figures up front, here we would merge into the same plot.\n",
    "\n",
    "regAB = LinearRegression().fit(fish[['length']],\n",
    "                              fish[['height']])\n",
    "\n",
    "reg_ysAB = regAB.predict(reg_xs)\n",
    "\n",
    "line_regAB = bq.Lines(x=reg_xs, y=reg_ysAB, colors=['black'], scales={'x': x_sc, 'y': y_sc})\n",
    "\n",
    "marksAB = marksA + marksB + [line_regA, line_regB]\n",
    "\n",
    "figAB = bq.Figure(title='All Fish', marks=marksAB, axes=[x_ax, y_ax], animation_duration=1000, \n",
    "                 layout=widgets.Layout(border='white solid 2px', width='auto'))\n",
    "\n",
    "###\n",
    "\n",
    "scatterA2 = bq.Scatter(x=fish[fish['color']=='red']['length'], y=fish[fish['color']=='red']['height'], \n",
    "                      colors=['green'], scales={'x': x_sc, 'y': y_sc})\n",
    "scatterB2 = bq.Scatter(x=fish[fish['color']=='blue']['length'], y=fish[fish['color']=='blue']['height'], \n",
    "                      colors=['green'], scales={'x': x_sc, 'y': y_sc})\n",
    "\n",
    "marksAB_BW = [scatterA2, scatterB2, line_regAB]\n",
    "\n",
    "figAB_BW = bq.Figure(title='All Fish', marks=marksAB_BW, axes=[x_ax, y_ax], animation_duration=1000, \n",
    "                 layout=widgets.Layout(border='white solid 2px', width='auto'))\n",
    "     \n",
    "boxAB = widgets.GridspecLayout(1, 2)\n",
    "boxAB[0, 0] = figAB\n",
    "boxAB[0, 1] = figAB_BW\n",
    "\n",
    "boxAB\n",
    "\n",
    "#figAB"
   ]
  },
  {
   "cell_type": "markdown",
   "metadata": {},
   "source": [
    "Surprisingly, the trend is actually reversed!\n",
    "\n",
    "In this case, in combining the two groups of fish we find that the length and height are **negatively correlated**.\n",
    "Let's say that clearly:\n",
    "\n",
    "> For each subgroup of fish, the correlation is positive. Taking all fish together, the correlation is actually reversed.\n",
    "\n",
    "This is the essence of Simpson's Paradox."
   ]
  },
  {
   "cell_type": "markdown",
   "metadata": {},
   "source": [
    "## Interactive challenge!\n",
    "\n",
    "Can you create a paradox with **three** subgroups?\n",
    "Move the shapes (circles, squares, and triangles) so that the correlation is **negative within each group**, yet the **overall trend is positive**."
   ]
  },
  {
   "cell_type": "code",
   "execution_count": 9,
   "metadata": {
    "code_folding": [
     0,
     47,
     56,
     64,
     99
    ]
   },
   "outputs": [
    {
     "data": {
      "application/vnd.jupyter.widget-view+json": {
       "model_id": "9ef0722511ae465fb992805ddd4e5afe",
       "version_major": 2,
       "version_minor": 0
      },
      "text/plain": [
       "GridspecLayout(children=(Figure(axes=[Axis(scale=LinearScale(max=10.0, min=0.0), visible=False), Axis(orientat…"
      ]
     },
     "metadata": {},
     "output_type": "display_data"
    }
   ],
   "source": [
    "# Play the game!\n",
    "\n",
    "# TODO: Add Play Again reset button\n",
    "\n",
    "xmax = 10\n",
    "ymax = 9\n",
    "\n",
    "# xs = np.random.uniform(0, xmax, 9)\n",
    "# ys = np.random.uniform(0, ymax, 9)\n",
    "xs = np.array([1.0, 4.0, 6.0, 2, 3, 8, 5, 7, 9])\n",
    "ys = np.array([5.0, 3.0, 9.0, 2, 1, 4, 6, 7, 8])\n",
    "\n",
    "circle_inds = [0, 1, 2]\n",
    "square_inds = [3, 4, 5]\n",
    "triangle_inds = [6, 7, 8]\n",
    "\n",
    "fig = plt.figure()\n",
    "# x_sc = bq.LinearScale(min=0, max=7)\n",
    "# y_sc = bq.LinearScale(min=0, max=8)\n",
    "\n",
    "reg0 = LinearRegression().fit(xs[circle_inds].reshape(-1, 1), ys[circle_inds])\n",
    "reg1 = LinearRegression().fit(xs[square_inds].reshape(-1, 1), ys[square_inds])\n",
    "reg2 = LinearRegression().fit(xs[triangle_inds].reshape(-1, 1), ys[triangle_inds])\n",
    "reg012 = LinearRegression().fit(xs.reshape(-1, 1), ys)\n",
    "\n",
    "reg_xs = np.linspace(0, 10, 2)\n",
    "\n",
    "reg_ys0 = reg0.predict(reg_xs.reshape(-1, 1))\n",
    "reg_ys1 = reg1.predict(reg_xs.reshape(-1, 1))\n",
    "reg_ys2 = reg2.predict(reg_xs.reshape(-1, 1))\n",
    "reg_ys012 = reg012.predict(reg_xs.reshape(-1, 1))\n",
    "\n",
    "line_reg0 = plt.plot(reg_xs, reg_ys0, colors=['green'], stroke_width=5)\n",
    "line_reg1 = plt.plot(reg_xs, reg_ys1, colors=['green'], stroke_width=5)\n",
    "line_reg2 = plt.plot(reg_xs, reg_ys2, colors=['green'], stroke_width=5)\n",
    "line_reg012 = plt.plot(reg_xs, reg_ys012, colors=['red'], stroke_width=8, line_style='dashed')\n",
    "\n",
    "scatter0 = plt.scatter(xs[circle_inds], ys[circle_inds], default_size=600, colors=['gray'], \n",
    "                       marker='circle', enable_move=True)\n",
    "scatter1 = plt.scatter(xs[square_inds], ys[square_inds], default_size=600, colors=['gray'], \n",
    "                       marker='square', enable_move=True)\n",
    "scatter2 = plt.scatter(xs[triangle_inds], ys[triangle_inds], default_size=600, colors=['gray'], \n",
    "                       marker='triangle-up', enable_move=True)\n",
    "\n",
    "status_text = plt.label([\"Not Yet\"], x=[5], y=[11], \n",
    "                            align='middle', font_weight='bold', default_size=24, colors=['Black'])\n",
    "\n",
    "def randomize_positions(button, scatter0, scatter1, scatter2):\n",
    "#    print(\"wer\")\n",
    "    scatter0.x = np.random.uniform(0, xmax, 3)\n",
    "    scatter1.x = np.random.uniform(0, xmax, 3)\n",
    "    scatter2.x = np.random.uniform(0, xmax, 3)\n",
    "    scatter0.y = np.random.uniform(0, ymax, 3)\n",
    "    scatter1.y = np.random.uniform(0, ymax, 3)\n",
    "    scatter2.y = np.random.uniform(0, ymax, 3)\n",
    "    \n",
    "button_randomize = widgets.Button(\n",
    "    description='Randomize positions',\n",
    "    disabled=False,\n",
    "    button_style='success', # 'success', 'info', 'warning', 'danger' or ''\n",
    "    tooltip='Description')\n",
    "    \n",
    "button_randomize.on_click(lambda button: randomize_positions(button, scatter0, scatter1, scatter2))\n",
    "\n",
    "def is_simpson(reg0, reg1, reg2, reg012, status_text):\n",
    "    conditions = [(reg0.coef_ < 0), (reg1.coef_ < 0), (reg2.coef_ < 0), (reg012.coef_ > 0)]\n",
    "    if conditions[0]:\n",
    "        line_reg0.set_trait('opacities', [1])\n",
    "    else:\n",
    "        line_reg0.set_trait('opacities', [0.2])\n",
    "        \n",
    "    if conditions[1]:\n",
    "        line_reg1.set_trait('opacities', [1])\n",
    "    else:\n",
    "        line_reg1.set_trait('opacities', [0.2])\n",
    "        \n",
    "    if conditions[2]:\n",
    "        line_reg2.set_trait('opacities', [1])\n",
    "    else:\n",
    "        line_reg2.set_trait('opacities', [0.2])\n",
    "        \n",
    "    if conditions[3]:\n",
    "        line_reg012.set_trait('opacities', [1])\n",
    "    else:\n",
    "        line_reg012.set_trait('opacities', [0.2])\n",
    "      \n",
    "    if sum(conditions) == 0:\n",
    "        status_text.text = [\"Move the shapes\"]\n",
    "    elif sum(conditions) == 1:\n",
    "        status_text.text = [\"You got one :)\"]\n",
    "    elif sum(conditions) == 2:\n",
    "        status_text.text = [\"Even better!\"]\n",
    "    elif sum(conditions) == 3:\n",
    "        status_text.text = [\"One to go!\"]\n",
    "    elif sum(conditions) == 4:\n",
    "        status_text.text = [\"SIMPSONED!!\"]\n",
    "    else:\n",
    "        print('ELSE+++++++++++++++++++++++')\n",
    "        \n",
    "def update_reg_line(change):\n",
    "    reg0 = LinearRegression().fit(scatter0.x.reshape(-1, 1), scatter0.y.reshape(-1, 1))\n",
    "    reg1 = LinearRegression().fit(scatter1.x.reshape(-1, 1), scatter1.y.reshape(-1, 1))\n",
    "    reg2 = LinearRegression().fit(scatter2.x.reshape(-1, 1), scatter2.y.reshape(-1, 1))\n",
    "    \n",
    "    newxs = np.concatenate([scatter0.x, scatter1.x, scatter2.x])\n",
    "    newys = np.concatenate([scatter0.y, scatter1.y, scatter2.y])\n",
    "    reg012 = LinearRegression().fit(newxs.reshape(-1, 1), newys.reshape(-1, 1))\n",
    "    \n",
    "    reg_ys0 = reg0.predict(reg_xs.reshape(-1, 1))\n",
    "    reg_ys1 = reg1.predict(reg_xs.reshape(-1, 1))\n",
    "    reg_ys2 = reg2.predict(reg_xs.reshape(-1, 1))\n",
    "    reg_ys012 = reg012.predict(reg_xs.reshape(-1, 1))\n",
    "\n",
    "    line_reg0.y = reg_ys0\n",
    "    line_reg1.y = reg_ys1\n",
    "    line_reg2.y = reg_ys2\n",
    "    line_reg012.y = reg_ys012\n",
    "    \n",
    "    is_simpson(reg0, reg1, reg2, reg012, status_text)\n",
    "    \n",
    "scatter0.observe(update_reg_line, names=['x','y'])\n",
    "scatter1.observe(update_reg_line, names=['x','y'])\n",
    "scatter2.observe(update_reg_line, names=['x','y'])\n",
    "\n",
    "is_simpson(reg0, reg1, reg2, reg012, status_text)\n",
    "    \n",
    "plt.xlim(0, xmax)\n",
    "plt.ylim(0, 11)\n",
    "\n",
    "fig.layout = widgets.Layout(width='100%')\n",
    "\n",
    "fig.marks = fig.marks + [status_text]\n",
    "fig.axes[0].set_trait('visible', False)\n",
    "fig.axes[1].set_trait('visible', False)\n",
    "\n",
    "box = widgets.GridspecLayout(3, 4, layout=widgets.Layout(width='80%'))\n",
    "box[:, 0:3] = fig\n",
    "box[1, 3] = button_randomize\n",
    "\n",
    "box"
   ]
  },
  {
   "cell_type": "code",
   "execution_count": 10,
   "metadata": {
    "code_folding": [
     0
    ]
   },
   "outputs": [
    {
     "data": {
      "text/html": [
       "<style>\n",
       "td {\n",
       "  font-size: 16px\n",
       "}\n",
       "</style>\n",
       "# Adjust the font size of the table.\n",
       "# TODO: Check that this does not mess with other sizes in the doc. Is there another way?\n"
      ],
      "text/plain": [
       "<IPython.core.display.HTML object>"
      ]
     },
     "metadata": {},
     "output_type": "display_data"
    }
   ],
   "source": [
    "%%HTML\n",
    "<style>\n",
    "td {\n",
    "  font-size: 16px\n",
    "}\n",
    "</style>\n",
    "# Adjust the font size of the table.\n",
    "# TODO: Check that this does not mess with other sizes in the doc. Is there another way?"
   ]
  },
  {
   "cell_type": "markdown",
   "metadata": {},
   "source": [
    "# Example 2: Batting averages (BA)\n",
    "\n",
    "Here is some data about two baseball players, Jack and Arlo.\n",
    "Each player has been playing in the league for two years.\n",
    "\n",
    "|     | 2018 | 2019 | Lifetime |\n",
    "| :-: | :-: | :-: | :-: |\n",
    "| Jack | 1 hit, 10 at bats, **BA 0.100** | 25 hits, 100 at bats, **BA 0.250** |  26 hits, 110 at bats, **BA 0.236**  |\n",
    "| Arlo | 15 hits, 100 at bats, **BA 0.150** | 3 hits, 10 at bats, **BA 0.300** |  18 hits, 110 at bats, **BA 0.164** |\n",
    "\n",
    "Baseball fans argue about which one is the better player.\n",
    "TODO: User fills in the BA?\n",
    "\n",
    "Some say \"Arlo is definitely the better player! He had a significantly better batting average in each year.\n",
    "\n",
    "(Take a minute and confirm that this is true.)\n",
    "\n",
    "The others respond \"Yeah, but Jack is clearly the better player *overall*.\"\n",
    "\n",
    "(Confirm that Jack has a higher cumulative batting average.)\n",
    "\n",
    "This is a classic example of Simpson's paradox.\n",
    "\n",
    "First, let's try to understand more about how this situation can arise.\n",
    "Then, let's come back to the fans and try to help settle their debate."
   ]
  },
  {
   "cell_type": "code",
   "execution_count": 11,
   "metadata": {
    "code_folding": [
     0
    ]
   },
   "outputs": [
    {
     "data": {
      "text/html": [
       "<div>\n",
       "<style scoped>\n",
       "    .dataframe tbody tr th:only-of-type {\n",
       "        vertical-align: middle;\n",
       "    }\n",
       "\n",
       "    .dataframe tbody tr th {\n",
       "        vertical-align: top;\n",
       "    }\n",
       "\n",
       "    .dataframe thead tr th {\n",
       "        text-align: left;\n",
       "    }\n",
       "</style>\n",
       "<table border=\"1\" class=\"dataframe\">\n",
       "  <thead>\n",
       "    <tr>\n",
       "      <th>year</th>\n",
       "      <th colspan=\"3\" halign=\"left\">2018</th>\n",
       "      <th colspan=\"3\" halign=\"left\">2019</th>\n",
       "    </tr>\n",
       "    <tr>\n",
       "      <th>stats</th>\n",
       "      <th>hits</th>\n",
       "      <th>at bats</th>\n",
       "      <th>BA</th>\n",
       "      <th>hits</th>\n",
       "      <th>at bats</th>\n",
       "      <th>BA</th>\n",
       "    </tr>\n",
       "  </thead>\n",
       "  <tbody>\n",
       "    <tr>\n",
       "      <th>Jack</th>\n",
       "      <td>7</td>\n",
       "      <td>4</td>\n",
       "      <td>2</td>\n",
       "      <td>1</td>\n",
       "      <td>5</td>\n",
       "      <td>8</td>\n",
       "    </tr>\n",
       "    <tr>\n",
       "      <th>Arlo</th>\n",
       "      <td>2</td>\n",
       "      <td>9</td>\n",
       "      <td>1</td>\n",
       "      <td>5</td>\n",
       "      <td>4</td>\n",
       "      <td>1</td>\n",
       "    </tr>\n",
       "  </tbody>\n",
       "</table>\n",
       "</div>"
      ],
      "text/plain": [
       "year  2018            2019           \n",
       "stats hits at bats BA hits at bats BA\n",
       "Jack     7       4  2    1       5  8\n",
       "Arlo     2       9  1    5       4  1"
      ]
     },
     "execution_count": 11,
     "metadata": {},
     "output_type": "execute_result"
    }
   ],
   "source": [
    "# Set up multi index dataframe for batting stats\n",
    "years = [2018, 2019]\n",
    "batting_details = ['hits', 'at bats', 'BA']\n",
    "\n",
    "mindex = pd.MultiIndex.from_product([years, batting_details],\n",
    "                           names=['year', 'stats'])\n",
    "\n",
    "# This will set dtypes as int. Batting ave will upcast to float later.\n",
    "bat_df = pd.DataFrame(np.random.randint(low=0, high=10, size=(2, 6)), index=['Jack', 'Arlo'], columns=mindex)\n",
    "bat_df"
   ]
  },
  {
   "cell_type": "code",
   "execution_count": 12,
   "metadata": {
    "code_folding": [
     0
    ]
   },
   "outputs": [],
   "source": [
    "# Enter the main data: 'hits' and 'at bats'\n",
    "bat_df.loc['Jack'] = [1, 20, 0.0, 24, 80, 0.0]\n",
    "bat_df.loc['Arlo'] = [12, 80, 0.0, 10, 20, 0.0]"
   ]
  },
  {
   "cell_type": "code",
   "execution_count": 13,
   "metadata": {
    "code_folding": [
     0
    ]
   },
   "outputs": [],
   "source": [
    "# TODO: This could be done better.\n",
    "bat_df.loc[:, ('Total', 'hits')] = bat_df.loc[:, (2018, 'hits')] + bat_df.loc[:, (2019, 'hits')]\n",
    "bat_df.loc[:, ('Total', 'at bats')] = bat_df.loc[:, (2018, 'at bats')] + bat_df.loc[:, (2019, 'at bats')]\n",
    "\n",
    "def compute_BA(df):\n",
    "    for year in df.columns.get_level_values('year').unique():\n",
    "        df.loc[:, (year,'BA')] = df[year]['hits'] / df[year]['at bats']\n",
    "    return df\n",
    "\n",
    "bat_df = compute_BA(bat_df)\n",
    "\n",
    "#bat_df"
   ]
  },
  {
   "cell_type": "code",
   "execution_count": 14,
   "metadata": {
    "code_folding": [
     0
    ]
   },
   "outputs": [],
   "source": [
    "# slice(None) important for slicing a multi index\n",
    "hits = bat_df.loc[:, (slice(None), 'hits')].to_numpy()\n",
    "atbats = bat_df.loc[:, (slice(None), 'at bats')].to_numpy()\n",
    "\n",
    "# We want to plot the cumulative.\n",
    "# -1 because we don't want the Total\n",
    "hitscum = np.cumsum(hits[:, :-1], axis=1)\n",
    "atbatscum = np.cumsum(atbats[:, :-1], axis=1)\n",
    "\n",
    "# Prepend 0s for plotting\n",
    "hitscum = np.hstack((np.zeros(shape=(2,1)), hitscum))\n",
    "atbatscum = np.hstack((np.zeros(shape=(2,1)), atbatscum))\n",
    "\n",
    "#print(hitscum)\n",
    "#print(atbatscum)"
   ]
  },
  {
   "cell_type": "code",
   "execution_count": 15,
   "metadata": {
    "code_folding": [
     0
    ]
   },
   "outputs": [],
   "source": [
    "# Color choices\n",
    "jack_colors = ['red', 'red']\n",
    "arlo_colors = ['blue', 'blue']\n",
    "\n",
    "# jack_colors = ['red', 'blue']\n",
    "# arlo_colors = ['red', 'blue']\n",
    "\n",
    "# jack_colors = ['red', 'orange']\n",
    "# arlo_colors = ['blue', 'green']"
   ]
  },
  {
   "cell_type": "code",
   "execution_count": 16,
   "metadata": {
    "code_folding": [
     28,
     37,
     43
    ]
   },
   "outputs": [
    {
     "data": {
      "application/vnd.jupyter.widget-view+json": {
       "model_id": "4869a25036e84b33ab369df57092e05c",
       "version_major": 2,
       "version_minor": 0
      },
      "text/plain": [
       "GridspecLayout(children=(Figure(animation_duration=1000, axes=[Axis(label='at bats', scale=LinearScale(max=110…"
      ]
     },
     "metadata": {},
     "output_type": "display_data"
    }
   ],
   "source": [
    "# Make batting average interactive!\n",
    "\n",
    "x_sc2 = bq.LinearScale(min=0, max=110)\n",
    "y_sc2 = bq.LinearScale(min=0, max=27)\n",
    "\n",
    "x_ax2 = bq.Axis(label='at bats', scale=x_sc2)\n",
    "y_ax2 = bq.Axis(label='runs', scale=y_sc2, orientation='vertical')\n",
    "\n",
    "\n",
    "jack_lines = [bq.Lines(x=atbatscum[0, [ind, ind+1]], y=hitscum[0, [ind, ind+1]], colors=[jack_colors[ind]], \n",
    "                       stroke_width=5, line_style='solid', scales={'x': x_sc2, 'y': y_sc2}) for ind in range(2)]\n",
    "arlo_lines = [bq.Lines(x=atbatscum[1, [ind, ind+1]], y=hitscum[1, [ind, ind+1]], colors=[arlo_colors[ind]], \n",
    "                       stroke_width=5, line_style='solid', scales={'x': x_sc2, 'y': y_sc2}) for ind in range(2)]\n",
    "\n",
    "jack_lines[1].set_trait('line_style', 'dashed')\n",
    "arlo_lines[1].set_trait('line_style', 'dashed')\n",
    "jack_lines[0].set_trait('labels', [''])\n",
    "arlo_lines[0].set_trait('labels', [''])\n",
    "jack_lines[1].set_trait('labels', ['Jack'])\n",
    "arlo_lines[1].set_trait('labels', ['Arlo'])\n",
    "\n",
    "vert_lines = [bq.Lines(x=2*[atbatscum[ind, 1]], y=[0, 25], colors=['black'], line_style='solid', \n",
    "                       stroke_width=1, scales={'x': x_sc2, 'y': y_sc2}) for ind in [0, 1]]\n",
    "\n",
    "fig_batting = plt.figure(marks=vert_lines + jack_lines + arlo_lines, axes=[x_ax2, y_ax2], \n",
    "                        layout=widgets.Layout(width='auto', height='auto'), animation_duration=1000, \n",
    "                        fig_margin={'top':20, 'bottom':50, 'left':50, 'right':20}, display_legend=True)\n",
    "\n",
    "button_bat1 = widgets.ToggleButtons(\n",
    "    value='year',\n",
    "    options=['year', 'at bats'],\n",
    "    description='compare by:',\n",
    "    disabled=False,\n",
    "    button_style='success', # 'success', 'info', 'warning', 'danger' or ''\n",
    "    tooltip='Description',\n",
    "    icon='check')\n",
    "   \n",
    "def switch_vals(arrA, arrB):\n",
    "    temp = copy.copy(arrA)\n",
    "    arrA = arrB\n",
    "    arrB = temp\n",
    "    return arrA, arrB\n",
    "\n",
    "def on_button_bat1(change):\n",
    "    # TODO: This function is rather terrible, but abstracting seems like a big pain right now.\n",
    "    # Switch Arlo lines\n",
    "    dx0 = np.diff(arlo_lines[0].x)[0]\n",
    "    dy0 = np.diff(arlo_lines[0].y)[0]\n",
    "    \n",
    "    dx1 = np.diff(arlo_lines[1].x)[0]\n",
    "    dy1 = np.diff(arlo_lines[1].y)[0]\n",
    "    \n",
    "    if change['new'] == 'at bats':\n",
    "        arlo_lines[1].x = [0, dx1]\n",
    "        arlo_lines[1].y = [0, dy1]\n",
    "\n",
    "        arlo_lines[0].x = [dx1, dx0 + dx1]\n",
    "        arlo_lines[0].y = [dy1, dy0 + dy1]\n",
    "        \n",
    "    elif change['new'] == 'year':\n",
    "        arlo_lines[0].x = [0, dx0]\n",
    "        arlo_lines[0].y = [0, dy0]\n",
    "\n",
    "        arlo_lines[1].x = [dx0, dx0 + dx1]\n",
    "        arlo_lines[1].y = [dy0, dy0 + dy1]\n",
    "    else:\n",
    "        raise\n",
    "    \n",
    "    # Move second vert line\n",
    "    if change['new'] == 'at bats':\n",
    "        vert_lines[1].x = x=2*[atbatscum[0, 1]]\n",
    "    elif change['new'] == 'year':\n",
    "        vert_lines[1].x = x=2*[atbatscum[1, 1]]\n",
    "    else:\n",
    "        raise\n",
    "    \n",
    "button_bat1.observe(on_button_bat1, 'value')\n",
    "\n",
    "box = widgets.GridspecLayout(3, 4, layout=widgets.Layout(width='80%', height='400px'))\n",
    "\n",
    "#leg = plt.legend() \n",
    "box[:, 0:3] = fig_batting\n",
    "box[1, 3] = button_bat1\n",
    "box"
   ]
  },
  {
   "cell_type": "markdown",
   "metadata": {},
   "source": [
    "Jack's batting is represented by the red lines and Arlo's by the blue.\n",
    "\n",
    "We have \"at bats\" on the x-axis and \"runs\" on the y-axis.\n",
    "This way, the slope tells us the batting average.\n",
    "\n",
    "We can see that in the first year (solid line) Arlo had a better batting average (greater slope).\n",
    "Comparing the two dashed lines, we can see that in the second year Arlo also had a higher BA.\n",
    "\n",
    "Comparing year by year may not be the most useful.\n",
    "This is because of the large discrepancy between the number of \"at bats\" within each year.\n",
    "For example, in the first year Arlo has 80 compared to Jack's 20.\n",
    "This discrepancy is reversed in the second year.\n",
    "\n",
    "Click on the \"at bats\" button to rearrange the data.\n",
    "This looks more like comparing \"apples to apples\".\n",
    "We see that Arlo still has a better BA in the first chunk (of 20 \"at bats\").\n",
    "But in the second chunk, Jack now has a better BA.\n",
    "\n",
    "When combining a \"win\" for Arlo with a \"win\" for Jack, it now seems reasonable that the overall winner must just depend on the details of the combination.\n",
    "In particular, it is no surprise to see Jack as the overall winner.\n",
    "\n"
   ]
  },
  {
   "cell_type": "code",
   "execution_count": null,
   "metadata": {},
   "outputs": [],
   "source": []
  },
  {
   "cell_type": "markdown",
   "metadata": {},
   "source": [
    "# Upload data files\n",
    "<p class=\"lead\">This <a href=\"https://jupyter.org/\">Jupyter notebook</a>\n",
    "shows how to upload data files to be converted\n",
    "to [Photon-HDF5](http://photon-hdf5.org) format. </p>\n",
    "\n",
    "<i>Please send feedback and report any problems to the \n",
    "[Photon-HDF5 google group](https://groups.google.com/forum/#!forum/photon-hdf5).</i>\n",
    "\n",
    "<br>\n",
    "<div class=\"alert alert-warning\">\n",
    "<b>NOTE</b> Uploading data files is only necessary when running the notebook online.\n",
    "</div>\n",
    "<div class=\"alert-warning\">\n",
    "<b>NOTE</b> Uploading data files is only necessary when running the notebook online.\n",
    "</div>\n",
    "<div class=\"alert\">\n",
    "<b>NOTE</b> Uploading data files is only necessary when running the notebook online.\n",
    "</div>\n",
    "<b>NOTE</b> Uploading data files is only necessary when running the notebook online."
   ]
  },
  {
   "cell_type": "markdown",
   "metadata": {},
   "source": [
    "# Example 3: Kind, rich men.\n",
    "\n",
    "TODO: CHOOSE Map onto this example or cut and stick with shapes.\n",
    "\n",
    "In this example, a woman seeks a husband.\n",
    "She desires a man who is rich and kind.\n",
    "She divides her search for this man into two groups, bald men and men with hair.\n",
    "\n",
    "She finds:\n",
    "The proportion of rich men is higher in the \"hair\" group than the \"bald\" group.\n",
    "The proportion of kind men is higher in the \"hair\" group than the \"bald\" group.\n",
    "However, surprisingly, the proportion of (rich AND kind) men is higher in the \"bald\" group than the \"hair\" group.\n",
    "\n",
    "How can we explain this?\n",
    "\n",
    "Let's look at the data."
   ]
  },
  {
   "cell_type": "code",
   "execution_count": 17,
   "metadata": {
    "code_folding": [
     0
    ]
   },
   "outputs": [],
   "source": [
    "# make shape data\n",
    "shape_df = pd.DataFrame({'row':[0, 0, 0, 0, 0, \n",
    "                              1, 1, 1, 1, 1], \n",
    "                    'column':[0, 1, 2, 3, 4, \n",
    "                              0, 1, 2, 3, 4],\n",
    "                     'shape':[1, 1, 0, 0, 0, \n",
    "                              0, 0, 1, 1, 1], \n",
    "                     'color':[0, 0, 0, 1, 1, \n",
    "                              0, 0, 1, 1, 1]})\n",
    "\n",
    "shape_df['color'] = shape_df['color'].map({0:'red', 1:'blue'})\n",
    "\n",
    "def shuffle_tokens(shape_df):\n",
    "    # Shuffle within each row\n",
    "    # There are ways to permute within pandas, but they seemed gross.\n",
    "    shuffled_inds = list(np.random.permutation(range(0, 5))) + list(np.random.permutation(range(5, 10)))\n",
    "    shape_df['shape'] = shape_df['shape'].iloc[shuffled_inds].to_numpy()\n",
    "    shape_df['color'] = shape_df['color'].iloc[shuffled_inds].to_numpy()\n",
    "    return shape_df\n",
    "\n",
    "#shape_df = shuffle_tokens(shape_df)\n",
    "#shape_df"
   ]
  },
  {
   "cell_type": "code",
   "execution_count": 18,
   "metadata": {
    "code_folding": [
     0
    ]
   },
   "outputs": [
    {
     "data": {
      "application/vnd.jupyter.widget-view+json": {
       "model_id": "098b67aae65746fb947f98d7adab0bef",
       "version_major": 2,
       "version_minor": 0
      },
      "text/plain": [
       "GridspecLayout(children=(ToggleButtons(button_style='success', description='show me:', layout=Layout(grid_area…"
      ]
     },
     "metadata": {},
     "output_type": "display_data"
    }
   ],
   "source": [
    "# simpson's paradox with tokens\n",
    "x_sc2 = bq.LinearScale(min=-0.5, max=4.5)\n",
    "y_sc2 = bq.LinearScale(min=0, max=1)\n",
    "\n",
    "x_ax2 = bq.Axis(label='length', scale=x_sc2)\n",
    "y_ax2 = bq.Axis(label='height', scale=y_sc2, orientation='vertical')\n",
    "\n",
    "# shape choices\n",
    "sA = 'triangle-up'\n",
    "sB = 'cross'\n",
    "sC = 'square'\n",
    "    \n",
    "def make_simpsons_shape_box(shape_df):\n",
    "    shapesA_df = shape_df[shape_df['shape']==0]\n",
    "    shapesB_df = shape_df[shape_df['shape']==1]\n",
    "    shapesA = bq.Scatter(x=shapesA_df['column'], y=shapesA_df['row'], colors=list(shapesA_df['color']), \n",
    "                          marker=sA, default_size=500, scales={'x': x_sc2, 'y': y_sc2})\n",
    "    shapesB = bq.Scatter(x=shapesB_df['column'], y=shapesB_df['row'], colors=list(shapesB_df['color']), \n",
    "                          marker=sB, default_size=500, scales={'x': x_sc2, 'y': y_sc2})\n",
    "    div_line = bq.Lines(x=[-1, 5], y=[0.5, 0.5], colors=['black'], stroke_width=3, scales={'x': x_sc2, 'y': y_sc2})\n",
    "    fig_shape = plt.figure(marks=[shapesA, shapesB, div_line], axes=[], animation_duration=1000, \n",
    "                           layout=widgets.Layout(width='auto', height='200px', border='3px solid black'), \n",
    "                          fig_margin={'top':20, 'bottom':20, 'left':20, 'right':20})\n",
    "    \n",
    "    button_show = widgets.ToggleButtons(\n",
    "        value='shape',\n",
    "        options=['nothing', 'shape', 'color', 'shape AND color'],\n",
    "        description='show me:',\n",
    "        disabled=False,\n",
    "        button_style='success', # 'success', 'info', 'warning', 'danger' or ''\n",
    "        tooltip='Description',\n",
    "        icon='check')\n",
    "    \n",
    "    button_shuffle = widgets.Button(\n",
    "        description='Shuffle now',\n",
    "        disabled=False,\n",
    "        button_style='', # 'success', 'info', 'warning', 'danger' or ''\n",
    "        tooltip='Description')\n",
    "    \n",
    "    button_shuffle_bool = widgets.Checkbox(\n",
    "            value=True,\n",
    "            description='Shuffle on observation',\n",
    "            disabled=False\n",
    "        )\n",
    "    \n",
    "    def on_button_show(change, shapesA, shapesB):\n",
    "        \n",
    "        if box[3,0].value: # shuffle check box\n",
    "            on_button_shuffle(change, shape_df)\n",
    "    \n",
    "        shapesA_df = shape_df[shape_df['shape']==0]\n",
    "        shapesB_df = shape_df[shape_df['shape']==1]\n",
    "    \n",
    "        if change['new'] == 'nothing':\n",
    "\n",
    "            shapesA.marker='square'\n",
    "            shapesB.marker='square'\n",
    "            shapesA.colors=['gray']\n",
    "            shapesB.colors=['gray']\n",
    "            \n",
    "        elif change['new'] == 'shape':\n",
    "\n",
    "            shapesA.marker='triangle-up'\n",
    "            shapesB.marker='cross'\n",
    "            shapesA.colors=['gray']\n",
    "            shapesB.colors=['gray']\n",
    "            \n",
    "        elif change['new'] == 'color':\n",
    "\n",
    "            shapesA.marker='square'\n",
    "            shapesB.marker='square'\n",
    "            shapesA.colors=list(shapesA_df['color'])\n",
    "            shapesB.colors=list(shapesB_df['color'])\n",
    "            \n",
    "        elif change['new'] == 'shape AND color':\n",
    "\n",
    "            shapesA.marker='triangle-up'\n",
    "            shapesB.marker='cross'\n",
    "            shapesA.colors=list(shapesA_df['color'])\n",
    "            shapesB.colors=list(shapesB_df['color'])\n",
    "\n",
    "        else:\n",
    "            raise\n",
    "\n",
    "    def on_button_shuffle(change, shape_df):\n",
    "        shape_df = shuffle_tokens(shape_df)\n",
    "        shapesA_df = shape_df[shape_df['shape']==0]\n",
    "        shapesB_df = shape_df[shape_df['shape']==1]\n",
    "        \n",
    "        shapesA.x = shapesA_df['column']\n",
    "        shapesA.y = shapesA_df['row']\n",
    "        shapesB.x = shapesB_df['column']\n",
    "        shapesB.y = shapesB_df['row']\n",
    "        \n",
    "    button_shuffle.on_click(lambda change:on_button_shuffle(change, shape_df))\n",
    "    button_show.observe(lambda change: on_button_show(change, shapesA, shapesB), 'value')\n",
    "\n",
    "    box = widgets.GridspecLayout(4, 4, grid_gap='0px', width='100%')\n",
    "    \n",
    "    box[0:2, 0] = button_show\n",
    "    box[2, 0] = button_shuffle\n",
    "    box[3, 0] = button_shuffle_bool\n",
    "    \n",
    "    box[:, 1:] = fig_shape\n",
    "\n",
    "    return shapesA, shapesB, box\n",
    "\n",
    "\n",
    "shapesA, shapesB, box = make_simpsons_shape_box(shape_df)\n",
    "box[0,0].value='nothing'\n",
    "box"
   ]
  },
  {
   "cell_type": "markdown",
   "metadata": {},
   "source": [
    "# Red Triangles\n",
    "\n",
    "There are ten objects divided into two groups of five.\n",
    "Each object is either a square or triangle, and each is colored either red or blue.\n",
    "The shape and color of each object is unknown for now.\n",
    "\n",
    "**Our goal is to find the group with the most red squares.**\n",
    "\n",
    "### Shape:\n",
    "First, click on \"shape\" to discover the shape of each.\n",
    "\n",
    "Q: What is the probability of finding a triangle when choosing from the top group?\n",
    "(answer: 2/5)\n",
    "\n",
    "Q: Similarly, what is the probability of finding a triangle when choosing from the bottom group?\n",
    "(answer: 3/5)\n",
    "\n",
    "Q: Which group should you choose from?\n",
    "(answer: bottom)\n",
    "\n",
    "### Color:\n",
    "Now click on \"color\" to observe the colors.\n",
    "\n",
    "Q: What is the probability of finding a red object when choosing from the top group?\n",
    "(answer: 3/5)\n",
    "\n",
    "Q: Similarly, what is the probability of finding a red object when choosing from the bottom group?\n",
    "(answer: 2/5)\n",
    "\n",
    "Q: Which group should you choose from?\n",
    "(answer: bottom)\n",
    "\n",
    "### Shape AND Color:\n",
    "Q: Before you click on the last button, guess which group will have the most red triangles. (What is your reasoning?)\n",
    "\n",
    "Now select \"shape AND color\".\n",
    "Q: What is the probability of finding a red triangle in the top group?\n",
    "(answer: 2/5)\n",
    "\n",
    "Q: In the bottom?\n",
    "(answer: 1/5)\n",
    "\n",
    "Q: Which group should you choose from? (Was your guess correct?)\n",
    "(answer: top)"
   ]
  },
  {
   "cell_type": "markdown",
   "metadata": {},
   "source": [
    "## Review:\n",
    "Let's try to understand what is going on here.\n",
    "While there are more triangles on top and there are more red objects on top, the greatest proportion of red triangles is on the bottom.\n",
    "This is because of how the two properties are correlated.\n",
    "\n",
    "On the top, redness is highly correlated with triangleness.\n",
    "On the bottom, redness is actually anti-correlated with triangleness."
   ]
  },
  {
   "cell_type": "code",
   "execution_count": null,
   "metadata": {},
   "outputs": [],
   "source": []
  },
  {
   "cell_type": "code",
   "execution_count": null,
   "metadata": {},
   "outputs": [],
   "source": []
  },
  {
   "cell_type": "markdown",
   "metadata": {},
   "source": [
    "## Wrap up\n",
    "\n",
    "### Fish\n",
    "\n",
    "In the fish example, the fish had three independent properties: length, width, and color.\n",
    "\n",
    "We divided the fish into two subgroups based on one property - color.\n",
    "We found that a correlation between length and width found within each color subgroup.\n",
    "We also found that this correlation could be reversed when we aggregated color subgroups.\n",
    "\n",
    "### Men\n",
    "\n",
    "In the marriage example, the men had three independent properties: richness, kindness, and hairiness. \n",
    "\n",
    "We found a correlation between richness and hairiness.\n",
    "We found a correlation between kindness and hairiness.\n",
    "We found that when we create a composite property (rich AND kind) that this property is correlated with hairiness, but in the opposite sense.\n"
   ]
  },
  {
   "cell_type": "markdown",
   "metadata": {},
   "source": [
    "## Complicated example\n",
    "\n",
    "Show one of the canonical examples, e.g. the effect of a drug in a table.\n",
    "\n",
    "Lots of numbers.\n",
    "Somehow, \"adding up\" small things results in a larger result than adding up large things.\n",
    "This is Simpson's paradox.\n",
    "\n",
    "You can check these numbers to confirm the story - a pain, but straightforward.\n",
    "\n",
    "Clearly this is *important* (we want to know which drugs to take and we want our doctors to know).\n",
    "\n",
    "- Show the number table\n",
    "- Compute for them how simpsons paradox arises (they don't have to do any math, but they can believe it).\n",
    "- Question 1: Choose the sentence that explains ..? the source of the paradox?\n",
    "- Question 2: Which drug should you choose? A - #1, B - #2, C - either, D - depends on if you are a man or woman\n",
    "\n",
    "TODO: can we decouple this example from gender?"
   ]
  },
  {
   "cell_type": "markdown",
   "metadata": {},
   "source": [
    "### Highlight how this notebook addresses the Brilliant Teaching Principles (https://brilliant.org/principles/):\n",
    "\n",
    "1. Excites: The greatest challenges to education are disinterest and apathy.\n",
    "\n",
    "Fish are kind of silly looking.\n",
    "TODO: Maybe move in that direction for the shape example or at least for the story.\n",
    "\n",
    "2. Cultivates curiosity: Questions and storytelling that cultivate natural curiosity are better than the threat of a test.\n",
    "\n",
    "No threats here.\n",
    "Incorporate a range of difficulty including some very beginner.\n",
    "Also, the interactive \"games\" have no time limit - this deemphasizes success vs failure, certainly in a test sense.\n",
    "    \n",
    "3. Is active: Effective learning is active, not passive. Watching a video is not enough.\n",
    "\n",
    "Fish graphs develop along with the story.\n",
    "Questions interspersed maintain engagement.\n",
    "\n",
    "Interactive game is active.\n",
    "\n",
    "4. Is applicable: Use it or lose it: it is essential to apply what you're learning as you learn it.\n",
    "\n",
    "Drug example is very applicable.\n",
    "Making decisions (or even just understanding your doctor) in the face of statistics is a valuable skill.\n",
    "\n",
    "5. Is community driven: A community that challenges and inspires you is invaluable.\n",
    "\n",
    "Not sure how to incorporate this.\n",
    "\n",
    "6. Doesn't discriminate: Your age, country, and gender don't determine what you are capable of learning.\n",
    "\n",
    "I took care to choose examples that seemed accessible to a wide audience.\n",
    "Fish are innocuous.\n",
    "Simple shapes and colors are accessible across grades, languages, cultures.\n",
    "Simpson examples often include gender - something I avoided for this reason.\n",
    "\n",
    "7. Allows for failure: The best learners allow themselves to make many mistakes along their journey.\n",
    "\n",
    "TODO: Offer more opportunity for mistakes (that can be then fixed).\n",
    "\n",
    "8. Sparks questions: The culmination of a great education isn't knowing all the answers — it's knowing what to ask.\n",
    "\n",
    "TODO: End with some good food for thought. Maybe one mathy one and one practical.\n"
   ]
  },
  {
   "cell_type": "code",
   "execution_count": null,
   "metadata": {},
   "outputs": [],
   "source": []
  },
  {
   "cell_type": "code",
   "execution_count": null,
   "metadata": {},
   "outputs": [],
   "source": []
  }
 ],
 "metadata": {
  "kernelspec": {
   "display_name": "Python 3",
   "language": "python",
   "name": "python3"
  },
  "language_info": {
   "codemirror_mode": {
    "name": "ipython",
    "version": 3
   },
   "file_extension": ".py",
   "mimetype": "text/x-python",
   "name": "python",
   "nbconvert_exporter": "python",
   "pygments_lexer": "ipython3",
   "version": "3.8.5"
  }
 },
 "nbformat": 4,
 "nbformat_minor": 4
}
